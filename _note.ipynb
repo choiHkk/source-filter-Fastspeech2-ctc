{
 "cells": [
  {
   "cell_type": "code",
   "execution_count": null,
   "id": "f7e4a23f-3ae7-4079-9092-efc4526f7fc9",
   "metadata": {},
   "outputs": [],
   "source": [
    "from utils.model import get_model, get_vocoder\n",
    "import easydict\n",
    "import torch\n",
    "import yaml\n",
    "\n",
    "device = torch.device('cpu')\n",
    "\n",
    "args = easydict.EasyDict()\n",
    "args['restore_step'] = 7000\n",
    "args['preprocess_config'] = './config/kss/preprocess.yaml'\n",
    "args['model_config'] = './config/kss/model.yaml'\n",
    "args['train_config'] = './config/kss/train.yaml'\n",
    "\n",
    "preprocess_config = yaml.load(open(args.preprocess_config, \"r\"), Loader=yaml.FullLoader)\n",
    "model_config = yaml.load(open(args.model_config, \"r\"), Loader=yaml.FullLoader)\n",
    "train_config = yaml.load(open(args.train_config, \"r\"), Loader=yaml.FullLoader)\n",
    "configs = (preprocess_config, model_config, train_config)\n",
    "\n",
    "model = get_model(args, configs, device, False)\n",
    "vocoder = get_vocoder(model_config, device)"
   ]
  },
  {
   "cell_type": "code",
   "execution_count": null,
   "id": "3f164209-6426-448f-ad97-fb796541302f",
   "metadata": {},
   "outputs": [],
   "source": [
    "from utils.tools import to_device_inference, intersperse\n",
    "from text import text_to_sequence\n",
    "import json\n",
    "\n",
    "\n",
    "def get_speaker_ids(path):\n",
    "    with open(path, 'r', encoding='utf8') as j:\n",
    "        speaker_ids = json.loads(j.read())\n",
    "    return speaker_ids\n",
    "\n",
    "def get_speaker_id(speaker, speaker_ids):\n",
    "    return speaker_ids[speaker]\n",
    "\n",
    "def get_text(sentence, preprocess_config):\n",
    "    sequence = text_to_sequence(sentence)\n",
    "    if preprocess_config[\"preprocessing\"][\"text\"][\"use_intersperse\"]:\n",
    "        sequence = intersperse(sequence, 0)\n",
    "    return sequence\n",
    "\n",
    "def get_pairs(speaker:str, sentence:str, speaker_ids:dict, preprocess_config:dict):\n",
    "    speaker_id = torch.LongTensor([get_speaker_id('kss', speaker_ids, )]).long()\n",
    "    sequence = torch.LongTensor(get_text(sentence, preprocess_config)).unsqueeze(0).long()\n",
    "    src_lens = torch.LongTensor([sequence.size(0)]).long()\n",
    "    max_src_len = src_lens.max().long()\n",
    "    return (speaker_id, sequence, src_lens, max_src_len)"
   ]
  },
  {
   "cell_type": "code",
   "execution_count": null,
   "id": "29f2c972-3f72-4a5b-b9aa-263f670e3818",
   "metadata": {
    "tags": []
   },
   "outputs": [],
   "source": [
    "speaker_ids = get_speaker_ids('./preprocessed_data/kss/speakers.json')\n",
    "speaker = 'kss'\n",
    "sentence = '안녕하세요? 만나서 반갑습니다.'\n",
    "\n",
    "pairs = to_device_inference(\n",
    "    get_pairs(speaker, sentence, speaker_ids, preprocess_config), \n",
    "    device\n",
    ")\n",
    "\n",
    "controls = {\n",
    "    'p_control': 1.0, \n",
    "    'd_control': 1.0\n",
    "}"
   ]
  },
  {
   "cell_type": "code",
   "execution_count": null,
   "id": "2477d1bc-6658-4fd2-867d-6de632079ff1",
   "metadata": {},
   "outputs": [],
   "source": [
    "import matplotlib.pyplot as plt\n",
    "import IPython.display as ipd\n",
    "%matplotlib inline\n",
    "\n",
    "outputs = model(*(pairs), **(controls), gen=True)\n",
    "mel = outputs[0][-1]\n",
    "filter_0 = outputs[-2]\n",
    "source_0 = outputs[-1]\n",
    "audio = vocoder(mel)\n",
    "\n",
    "plt.imshow(mel.squeeze(0).detach().cpu().numpy(), origin='lower', aspect='auto')\n",
    "plt.show()\n",
    "\n",
    "plt.imshow(filter_0.squeeze(0).detach().cpu().numpy(), origin='lower', aspect='auto')\n",
    "plt.show()\n",
    "\n",
    "plt.imshow(source_0.squeeze(0).detach().cpu().numpy(), origin='lower', aspect='auto')\n",
    "plt.show()\n",
    "\n",
    "\n",
    "sr = preprocess_config['preprocessing']['audio']['sampling_rate']\n",
    "display(ipd.Audio(audio.squeeze().detach().cpu().numpy(), rate=sr, normalize=False, autoplay=False))"
   ]
  },
  {
   "cell_type": "code",
   "execution_count": null,
   "id": "65e11fea-fdf6-4ebd-982f-f6351db0b28c",
   "metadata": {},
   "outputs": [],
   "source": []
  }
 ],
 "metadata": {
  "kernelspec": {
   "display_name": "Python 3 (ipykernel)",
   "language": "python",
   "name": "python3"
  },
  "language_info": {
   "codemirror_mode": {
    "name": "ipython",
    "version": 3
   },
   "file_extension": ".py",
   "mimetype": "text/x-python",
   "name": "python",
   "nbconvert_exporter": "python",
   "pygments_lexer": "ipython3",
   "version": "3.8.5"
  }
 },
 "nbformat": 4,
 "nbformat_minor": 5
}
